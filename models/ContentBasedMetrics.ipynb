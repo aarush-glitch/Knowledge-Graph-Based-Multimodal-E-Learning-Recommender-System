{
  "nbformat": 4,
  "nbformat_minor": 0,
  "metadata": {
    "colab": {
      "provenance": []
    },
    "kernelspec": {
      "name": "python3",
      "display_name": "Python 3"
    },
    "language_info": {
      "name": "python"
    }
  },
  "cells": [
    {
      "cell_type": "code",
      "source": [],
      "metadata": {
        "collapsed": true,
        "id": "fosWkAMqLd4M"
      },
      "execution_count": 30,
      "outputs": []
    },
    {
      "cell_type": "code",
      "source": [
        "\n",
        "import pandas as pd\n",
        "import numpy as np\n",
        "from sklearn.feature_extraction.text import CountVectorizer\n",
        "from sklearn.metrics.pairwise import cosine_similarity\n",
        "from sklearn.metrics import mean_squared_error, f1_score\n",
        "from sklearn.model_selection import StratifiedShuffleSplit\n",
        "from google.colab import drive\n",
        "drive.mount('/content/drive')"
      ],
      "metadata": {
        "colab": {
          "base_uri": "https://localhost:8080/"
        },
        "id": "xq8qPfYiN1_f",
        "outputId": "86e0ba17-dd6d-4dbe-9185-cbb1bb4cb0a4"
      },
      "execution_count": 40,
      "outputs": [
        {
          "output_type": "stream",
          "name": "stdout",
          "text": [
            "Drive already mounted at /content/drive; to attempt to forcibly remount, call drive.mount(\"/content/drive\", force_remount=True).\n"
          ]
        }
      ]
    },
    {
      "cell_type": "code",
      "source": [
        "\n",
        "path = \"/content/drive/MyDrive/Online_courses_final1_updated.csv\"\n",
        "course = pd.read_csv(path)\n",
        "\n",
        "\n",
        "course['tag'] = course['Category'] + ' ' + course['Sub-Category'] + ' ' + course['Skills']\n",
        "\n",
        "new_df = course[['CourseID', 'Title', 'tag', 'Rating']].drop_duplicates(subset=['Title']).dropna()\n",
        "\n",
        "new_df['Rating_Binned'] = pd.cut(new_df['Rating'], bins=[0, 2, 3, 4, 5], labels=[1, 2, 3, 4])\n",
        "\n"
      ],
      "metadata": {
        "id": "vtOc6152falC"
      },
      "execution_count": 41,
      "outputs": []
    },
    {
      "cell_type": "code",
      "source": [
        "strat_split = StratifiedShuffleSplit(n_splits=1, test_size=0.2, random_state=42)\n",
        "for train_index, test_index in strat_split.split(new_df, new_df['Rating_Binned']):\n",
        "    train = new_df.iloc[train_index]\n",
        "    test = new_df.iloc[test_index]\n",
        "\n",
        "cv = CountVectorizer(max_features=10000, stop_words='english')\n",
        "train_vectors = cv.fit_transform(train['tag'].values.astype('U')).toarray()\n",
        "\n",
        "sim = cosine_similarity(train_vectors)\n",
        "\n"
      ],
      "metadata": {
        "id": "sUY_5YlBfnmF"
      },
      "execution_count": 42,
      "outputs": []
    },
    {
      "cell_type": "markdown",
      "source": [],
      "metadata": {
        "id": "f0gd0VoefnVm"
      }
    },
    {
      "cell_type": "code",
      "source": [
        "def predict_ratings(title, train, sim):\n",
        "    try:\n",
        "        index = train[train['Title'] == title].index[0]\n",
        "        similar_indices = list(enumerate(sim[index]))\n",
        "        sorted_similar_indices = sorted(similar_indices, key=lambda x: x[1], reverse=True)\n",
        "\n",
        "        top_similar = sorted_similar_indices[1:11]  # Exclude self\n",
        "        weighted_sum = sum(similarity * train.iloc[i]['Rating'] for i, similarity in top_similar)\n",
        "        sum_weights = sum(similarity for i, similarity in top_similar)\n",
        "\n",
        "        return weighted_sum / sum_weights if sum_weights > 0 else np.nan\n",
        "    except:\n",
        "        return np.nan\n",
        "\n",
        "train_mean_rating = train['Rating'].mean()  # Fallback for missing predictions\n",
        "test['predicted_ratings'] = test['Title'].apply(\n",
        "    lambda x: predict_ratings(x, train, sim) if x in train['Title'].values else train_mean_rating\n",
        ")\n",
        "\n"
      ],
      "metadata": {
        "colab": {
          "base_uri": "https://localhost:8080/"
        },
        "id": "vlO2M9SCfrWG",
        "outputId": "1d4b81e7-4bc1-448d-cf4d-dac1e9cde283"
      },
      "execution_count": 43,
      "outputs": [
        {
          "output_type": "stream",
          "name": "stderr",
          "text": [
            "<ipython-input-43-f75a4f47bb06>:19: SettingWithCopyWarning: \n",
            "A value is trying to be set on a copy of a slice from a DataFrame.\n",
            "Try using .loc[row_indexer,col_indexer] = value instead\n",
            "\n",
            "See the caveats in the documentation: https://pandas.pydata.org/pandas-docs/stable/user_guide/indexing.html#returning-a-view-versus-a-copy\n",
            "  test['predicted_ratings'] = test['Title'].apply(\n"
          ]
        }
      ]
    },
    {
      "cell_type": "code",
      "source": [
        "# Calculate RMSE\n",
        "rmse = np.sqrt(mean_squared_error(test['Rating'], test['predicted_ratings']))\n",
        "print(f\"RMSE: {rmse:.2f}\")\n",
        "\n",
        "# Binary relevance for F1 score\n",
        "test['true_relevance'] = test['Rating'].apply(lambda x: 1 if x >= 4 else 0)\n",
        "test['predicted_relevance'] = test['predicted_ratings'].apply(lambda x: 1 if x >= 4 else 0)\n",
        "\n",
        "# Calculate F1 Score\n",
        "f1 = f1_score(test['true_relevance'], test['predicted_relevance'])\n",
        "print(f\"F1 Score: {f1:.2f}\")\n"
      ],
      "metadata": {
        "colab": {
          "base_uri": "https://localhost:8080/"
        },
        "id": "ePUSVGNQfwOw",
        "outputId": "615453fe-0f2a-4f18-8a8a-e41a8213df63"
      },
      "execution_count": 44,
      "outputs": [
        {
          "output_type": "stream",
          "name": "stdout",
          "text": [
            "RMSE: 0.20\n",
            "F1 Score: 0.99\n"
          ]
        },
        {
          "output_type": "stream",
          "name": "stderr",
          "text": [
            "<ipython-input-44-257664f1ec93>:6: SettingWithCopyWarning: \n",
            "A value is trying to be set on a copy of a slice from a DataFrame.\n",
            "Try using .loc[row_indexer,col_indexer] = value instead\n",
            "\n",
            "See the caveats in the documentation: https://pandas.pydata.org/pandas-docs/stable/user_guide/indexing.html#returning-a-view-versus-a-copy\n",
            "  test['true_relevance'] = test['Rating'].apply(lambda x: 1 if x >= 4 else 0)\n",
            "<ipython-input-44-257664f1ec93>:7: SettingWithCopyWarning: \n",
            "A value is trying to be set on a copy of a slice from a DataFrame.\n",
            "Try using .loc[row_indexer,col_indexer] = value instead\n",
            "\n",
            "See the caveats in the documentation: https://pandas.pydata.org/pandas-docs/stable/user_guide/indexing.html#returning-a-view-versus-a-copy\n",
            "  test['predicted_relevance'] = test['predicted_ratings'].apply(lambda x: 1 if x >= 4 else 0)\n"
          ]
        }
      ]
    }
  ]
}