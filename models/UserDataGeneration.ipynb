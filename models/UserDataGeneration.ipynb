{
  "nbformat": 4,
  "nbformat_minor": 0,
  "metadata": {
    "colab": {
      "provenance": []
    },
    "kernelspec": {
      "name": "python3",
      "display_name": "Python 3"
    },
    "language_info": {
      "name": "python"
    }
  },
  "cells": [
    {
      "cell_type": "code",
      "execution_count": null,
      "metadata": {
        "id": "izCMoVZc5TP6"
      },
      "outputs": [],
      "source": [
        "from google.colab import drive\n",
        "drive.mount('/content/drive')"
      ]
    },
    {
      "cell_type": "code",
      "source": [
        "import pandas as pd\n",
        "import numpy as np\n",
        "import random\n",
        "\n",
        "# Load the dataset\n",
        "file_path = '/content/drive/MyDrive/Colab Notebooks/Online_courses_final1_updated.csv'\n",
        "data = pd.read_csv(file_path)\n",
        "data['Instructors'] = data['Instructors'].fillna(\"\")\n",
        "\n",
        "users = []\n",
        "for i in range(1000):\n",
        "    # Randomly assign user interests\n",
        "    interests = random.sample(data['Category'].dropna().unique().tolist(), k=random.randint(1, 3))\n",
        "    interest_courses = data[data['Category'].isin(interests)]  # Define interest_courses here\n",
        "\n",
        "    if random.random() < 0.75:  # 75% probability of English\n",
        "        preferred_language = 'English'\n",
        "    else:\n",
        "        preferred_language = interest_courses['Language'].value_counts().idxmax() if not interest_courses.empty else 'English'\n",
        "\n",
        "    user = {\n",
        "        'user_id': i,\n",
        "        'interests': interests,\n",
        "        'skill_level': random.choice(['Beginner', 'Intermediate', 'Advanced']),\n",
        "        'language': preferred_language  # Set the preferred language\n",
        "    }\n",
        "\n",
        "    available_instructors = interest_courses['Instructors'].dropna().unique()  # interest_courses is now defined\n",
        "    user['preferred_instructors'] = random.sample(list(available_instructors), k=min(2, len(available_instructors)))\n",
        "\n",
        "    users.append(user)\n",
        "\n",
        "def assign_courses(user, df):\n",
        "    user_courses = []\n",
        "    assigned_courses = set()  # Track assigned courses to avoid duplicates\n",
        "    dominant_attr = random.choices(['Category', 'Skills'], weights=[0.6, 0.4], k=1)[0]\n",
        "\n",
        "    for i in range(10):  # Assuming each user enrolls in 10 courses\n",
        "        dominant_courses = df[(df[dominant_attr].isin(user['interests'])) & (~df['CourseID'].isin(assigned_courses))]\n",
        "        dominant_prob = random.uniform(0.5, 0.7)\n",
        "\n",
        "        if random.random() < dominant_prob and not dominant_courses.empty:\n",
        "            course = dominant_courses.sample(1).iloc[0]\n",
        "        else:\n",
        "            non_duplicate_courses = df[~df['CourseID'].isin(assigned_courses)]\n",
        "            course = non_duplicate_courses.sample(1).iloc[0] if not non_duplicate_courses.empty else None\n",
        "\n",
        "        if course is None:\n",
        "            break\n",
        "\n",
        "        secondary_courses = dominant_courses[dominant_courses['Skills'].str.contains('|'.join(user['interests']), na=False)]\n",
        "        if not secondary_courses.empty:\n",
        "            course = secondary_courses.sample(1).iloc[0]\n",
        "\n",
        "        # Language preference check\n",
        "        if user['language'] in course['Language']:\n",
        "            selected_course = course\n",
        "        else:\n",
        "            language_courses = df[(df['Language'] == user['language']) & (~df['CourseID'].isin(assigned_courses))]\n",
        "            selected_course = language_courses.sample(1).iloc[0] if not language_courses.empty else course\n",
        "\n",
        "        # Mark course as assigned to this user\n",
        "        assigned_courses.add(selected_course['CourseID'])\n",
        "\n",
        "        # Assign rating based on course relevance\n",
        "        if selected_course['Instructors'] in user['preferred_instructors']:\n",
        "            rating = round(random.uniform(4.5, 5.0), 1)\n",
        "        elif selected_course[dominant_attr] in user['interests']:\n",
        "            rating = round(random.uniform(3.5, 4.5), 1)\n",
        "        else:\n",
        "            rating = round(random.uniform(2.0, 3.5), 1)\n",
        "\n",
        "        user_courses.append({\n",
        "            'user_id': user['user_id'],\n",
        "            'course_id': selected_course['CourseID'],\n",
        "            'rating': rating,\n",
        "            'language': selected_course['Language'],\n",
        "            'preferred_instructor': selected_course['Instructors'] in user['preferred_instructors']\n",
        "        })\n",
        "\n",
        "    return pd.DataFrame(user_courses)\n",
        "\n",
        "user_courses_df = pd.DataFrame()\n",
        "for user in users:\n",
        "    user_courses_df = pd.concat([user_courses_df, assign_courses(user, data)], ignore_index=True)\n",
        "\n",
        "user_courses_df.to_csv('user_course_ratings1.csv', index=False)\n",
        "print(\"Dataset generated with user-specific course assignments and ratings for 1000 users.\")\n",
        "\n"
      ],
      "metadata": {
        "id": "ow9m9TNI6aoX"
      },
      "execution_count": null,
      "outputs": []
    },
    {
      "cell_type": "code",
      "source": [
        "from google.colab import files\n",
        "files.download('user_course_ratings1.csv')"
      ],
      "metadata": {
        "id": "peRJ0OjP4yRx"
      },
      "execution_count": null,
      "outputs": []
    }
  ]
}